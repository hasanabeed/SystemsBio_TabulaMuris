{
 "cells": [
  {
   "cell_type": "code",
   "execution_count": 2,
   "metadata": {},
   "outputs": [
    {
     "data": {
      "text/plain": [
       "Aorta                #1f77b4\n",
       "Bladder              #aec7e8\n",
       "Brain_Myeloid        #ff7f0e\n",
       "Brain_Non-Myeloid    #ffbb78\n",
       "Diaphragm            #2ca02c\n",
       "Fat                  #98df8a\n",
       "Heart                #d62728\n",
       "Heart_and_Aorta      #d62728\n",
       "Kidney               #ff9896\n",
       "Large_Intestine      #9467bd\n",
       "Limb_Muscle          #c5b0d5\n",
       "Liver                #8c564b\n",
       "Lung                 #c49c94\n",
       "Mammary_Gland        #e377c2\n",
       "Marrow               #f7b6d2\n",
       "Pancreas             #7f7f7f\n",
       "Skin                 #c7c7c7\n",
       "Spleen               #bcbd22\n",
       "Thymus               #dbdb8d\n",
       "Tongue               #17becf\n",
       "Trachea              #9edae5\n",
       "Name: color, dtype: object"
      ]
     },
     "execution_count": 2,
     "metadata": {},
     "output_type": "execute_result"
    }
   ],
   "source": [
    "import pandas as pd\n",
    "import os\n",
    "import glob\n",
    "import os \n",
    "import numpy as np\n",
    "\n",
    "import pandas as pd \n",
    "import matplotlib.pyplot as plt\n",
    "import matplotlib\n",
    "import seaborn as sns\n",
    "\n",
    "\n",
    "\n",
    "# Editable text and proper LaTeX fonts in illustrator\n",
    "matplotlib.rcParams['ps.useafm'] = True\n",
    "# matplotlib.rcParams['pdf.use14corefonts'] = True\n",
    "\n",
    "# Editable fonts. 42 is the magic number\n",
    "matplotlib.rcParams['pdf.fonttype'] = 42\n",
    "\n",
    "# Use \"Computer Modern\" (LaTeX font) for math numbers\n",
    "matplotlib.rcParams['mathtext.fontset'] = 'cm'\n",
    "%matplotlib inline\n",
    "\n",
    "sns.set(style='whitegrid', context='paper')\n",
    "\n",
    "\n",
    "data_ingest_folder = os.path.join('..', '00_data_ingest' )\n",
    "folder = os.path.join(data_ingest_folder, '13_ngenes_ncells_facs')\n",
    "\n",
    "palette_folder = os.path.join(data_ingest_folder, '15_color_palette')\n",
    "colors = pd.read_csv(os.path.join(palette_folder, 'tissue_colors.csv'), index_col=0, squeeze=True)\n",
    "colors"
   ]
  },
  {
   "cell_type": "code",
   "execution_count": 3,
   "metadata": {},
   "outputs": [
    {
     "name": "stdout",
     "output_type": "stream",
     "text": [
      "(44949, 4)\n",
      "20\n"
     ]
    },
    {
     "data": {
      "text/html": [
       "<div>\n",
       "<style scoped>\n",
       "    .dataframe tbody tr th:only-of-type {\n",
       "        vertical-align: middle;\n",
       "    }\n",
       "\n",
       "    .dataframe tbody tr th {\n",
       "        vertical-align: top;\n",
       "    }\n",
       "\n",
       "    .dataframe thead th {\n",
       "        text-align: right;\n",
       "    }\n",
       "</style>\n",
       "<table border=\"1\" class=\"dataframe\">\n",
       "  <thead>\n",
       "    <tr style=\"text-align: right;\">\n",
       "      <th></th>\n",
       "      <th>nGene</th>\n",
       "      <th>nReads</th>\n",
       "      <th>orig.ident</th>\n",
       "      <th>tissue</th>\n",
       "    </tr>\n",
       "  </thead>\n",
       "  <tbody>\n",
       "    <tr>\n",
       "      <th>A1.MAA000907.3_11_M.1.1</th>\n",
       "      <td>1492</td>\n",
       "      <td>59288</td>\n",
       "      <td>Liver</td>\n",
       "      <td>Liver</td>\n",
       "    </tr>\n",
       "    <tr>\n",
       "      <th>A1.MAA100039.3_11_M.1.1</th>\n",
       "      <td>8885</td>\n",
       "      <td>1369546</td>\n",
       "      <td>Liver</td>\n",
       "      <td>Liver</td>\n",
       "    </tr>\n",
       "    <tr>\n",
       "      <th>A1.MAA100138.3_56_F.1.1</th>\n",
       "      <td>7168</td>\n",
       "      <td>1838345</td>\n",
       "      <td>Liver</td>\n",
       "      <td>Liver</td>\n",
       "    </tr>\n",
       "    <tr>\n",
       "      <th>A1.MAA100140.3_57_F.1.1</th>\n",
       "      <td>6938</td>\n",
       "      <td>1664289</td>\n",
       "      <td>Liver</td>\n",
       "      <td>Liver</td>\n",
       "    </tr>\n",
       "    <tr>\n",
       "      <th>A10.MAA000907.3_11_M.1.1</th>\n",
       "      <td>2279</td>\n",
       "      <td>306456</td>\n",
       "      <td>Liver</td>\n",
       "      <td>Liver</td>\n",
       "    </tr>\n",
       "  </tbody>\n",
       "</table>\n",
       "</div>"
      ],
      "text/plain": [
       "                          nGene   nReads orig.ident tissue\n",
       "A1.MAA000907.3_11_M.1.1    1492    59288      Liver  Liver\n",
       "A1.MAA100039.3_11_M.1.1    8885  1369546      Liver  Liver\n",
       "A1.MAA100138.3_56_F.1.1    7168  1838345      Liver  Liver\n",
       "A1.MAA100140.3_57_F.1.1    6938  1664289      Liver  Liver\n",
       "A10.MAA000907.3_11_M.1.1   2279   306456      Liver  Liver"
      ]
     },
     "execution_count": 3,
     "metadata": {},
     "output_type": "execute_result"
    }
   ],
   "source": [
    "\n",
    "globber = os.path.join(folder, '*_nreads_ngenes.csv')\n",
    "\n",
    "dfs = []\n",
    "\n",
    "for filename in glob.iglob(globber):\n",
    "    df = pd.read_csv(filename, index_col=0)\n",
    "    df['tissue'] = os.path.basename(filename).split('_nreads_ngenes.csv')[0]\n",
    "    dfs.append(df)\n",
    "nreads_ngenes = pd.concat(dfs)\n",
    "\n",
    "print(nreads_ngenes.shape)\n",
    "print(len(nreads_ngenes.groupby('tissue')))\n",
    "nreads_ngenes.head()"
   ]
  },
  {
   "cell_type": "code",
   "execution_count": 4,
   "metadata": {},
   "outputs": [],
   "source": [
    "nreads_ngenes['log10 nReads'] = np.log10(nreads_ngenes['nReads'])"
   ]
  },
  {
   "cell_type": "code",
   "execution_count": 5,
   "metadata": {},
   "outputs": [],
   "source": [
    "# Replace underscores with spaces for LaTeX happiness\n",
    "nreads_ngenes['tissue'] = nreads_ngenes['tissue'].str.replace('_', ' ')\n",
    "colors.index = colors.index.str.replace('_', ' ')"
   ]
  },
  {
   "cell_type": "code",
   "execution_count": 6,
   "metadata": {},
   "outputs": [
    {
     "data": {
      "text/plain": [
       "{'Aorta': '#1f77b4',\n",
       " 'Bladder': '#aec7e8',\n",
       " 'Brain Myeloid': '#ff7f0e',\n",
       " 'Brain Non-Myeloid': '#ffbb78',\n",
       " 'Diaphragm': '#2ca02c',\n",
       " 'Fat': '#98df8a',\n",
       " 'Heart': '#d62728',\n",
       " 'Heart and Aorta': '#d62728',\n",
       " 'Kidney': '#ff9896',\n",
       " 'Large Intestine': '#9467bd',\n",
       " 'Limb Muscle': '#c5b0d5',\n",
       " 'Liver': '#8c564b',\n",
       " 'Lung': '#c49c94',\n",
       " 'Mammary Gland': '#e377c2',\n",
       " 'Marrow': '#f7b6d2',\n",
       " 'Pancreas': '#7f7f7f',\n",
       " 'Skin': '#c7c7c7',\n",
       " 'Spleen': '#bcbd22',\n",
       " 'Thymus': '#dbdb8d',\n",
       " 'Tongue': '#17becf',\n",
       " 'Trachea': '#9edae5'}"
      ]
     },
     "execution_count": 6,
     "metadata": {},
     "output_type": "execute_result"
    }
   ],
   "source": [
    "# Convert colors to dict to force mapping of tissue name to color\n",
    "colors = colors.to_dict()\n",
    "colors"
   ]
  },
  {
   "cell_type": "code",
   "execution_count": 7,
   "metadata": {},
   "outputs": [
    {
     "data": {
      "text/plain": [
       "['Aorta',\n",
       " 'Bladder',\n",
       " 'Brain Myeloid',\n",
       " 'Brain Non-Myeloid',\n",
       " 'Diaphragm',\n",
       " 'Fat',\n",
       " 'Heart',\n",
       " 'Kidney',\n",
       " 'Large Intestine',\n",
       " 'Limb Muscle',\n",
       " 'Liver',\n",
       " 'Lung',\n",
       " 'Mammary Gland',\n",
       " 'Marrow',\n",
       " 'Pancreas',\n",
       " 'Skin',\n",
       " 'Spleen',\n",
       " 'Thymus',\n",
       " 'Tongue',\n",
       " 'Trachea']"
      ]
     },
     "execution_count": 7,
     "metadata": {},
     "output_type": "execute_result"
    }
   ],
   "source": [
    "tissues = sorted(nreads_ngenes['tissue'].unique())\n",
    "tissues"
   ]
  },
  {
   "cell_type": "code",
   "execution_count": 8,
   "metadata": {},
   "outputs": [],
   "source": [
    "kwargs = dict(data=nreads_ngenes, row='tissue', facet_kws=dict(sharex=True),\n",
    "               row_order=tissues, palette=colors, xlabel_suffix='')"
   ]
  },
  {
   "cell_type": "code",
   "execution_count": 9,
   "metadata": {},
   "outputs": [
    {
     "data": {
      "text/html": [
       "<div>\n",
       "<style scoped>\n",
       "    .dataframe tbody tr th:only-of-type {\n",
       "        vertical-align: middle;\n",
       "    }\n",
       "\n",
       "    .dataframe tbody tr th {\n",
       "        vertical-align: top;\n",
       "    }\n",
       "\n",
       "    .dataframe thead th {\n",
       "        text-align: right;\n",
       "    }\n",
       "</style>\n",
       "<table border=\"1\" class=\"dataframe\">\n",
       "  <thead>\n",
       "    <tr style=\"text-align: right;\">\n",
       "      <th></th>\n",
       "      <th>tissue</th>\n",
       "      <th>n_cells</th>\n",
       "    </tr>\n",
       "  </thead>\n",
       "  <tbody>\n",
       "    <tr>\n",
       "      <th>0</th>\n",
       "      <td>Aorta</td>\n",
       "      <td>408</td>\n",
       "    </tr>\n",
       "    <tr>\n",
       "      <th>1</th>\n",
       "      <td>Bladder</td>\n",
       "      <td>1378</td>\n",
       "    </tr>\n",
       "    <tr>\n",
       "      <th>2</th>\n",
       "      <td>Brain Myeloid</td>\n",
       "      <td>4455</td>\n",
       "    </tr>\n",
       "    <tr>\n",
       "      <th>3</th>\n",
       "      <td>Brain Non-Myeloid</td>\n",
       "      <td>3401</td>\n",
       "    </tr>\n",
       "    <tr>\n",
       "      <th>4</th>\n",
       "      <td>Diaphragm</td>\n",
       "      <td>870</td>\n",
       "    </tr>\n",
       "    <tr>\n",
       "      <th>5</th>\n",
       "      <td>Fat</td>\n",
       "      <td>4967</td>\n",
       "    </tr>\n",
       "    <tr>\n",
       "      <th>6</th>\n",
       "      <td>Heart</td>\n",
       "      <td>4365</td>\n",
       "    </tr>\n",
       "    <tr>\n",
       "      <th>7</th>\n",
       "      <td>Kidney</td>\n",
       "      <td>519</td>\n",
       "    </tr>\n",
       "    <tr>\n",
       "      <th>8</th>\n",
       "      <td>Large Intestine</td>\n",
       "      <td>3938</td>\n",
       "    </tr>\n",
       "    <tr>\n",
       "      <th>9</th>\n",
       "      <td>Limb Muscle</td>\n",
       "      <td>1090</td>\n",
       "    </tr>\n",
       "    <tr>\n",
       "      <th>10</th>\n",
       "      <td>Liver</td>\n",
       "      <td>714</td>\n",
       "    </tr>\n",
       "    <tr>\n",
       "      <th>11</th>\n",
       "      <td>Lung</td>\n",
       "      <td>1716</td>\n",
       "    </tr>\n",
       "    <tr>\n",
       "      <th>12</th>\n",
       "      <td>Mammary Gland</td>\n",
       "      <td>2405</td>\n",
       "    </tr>\n",
       "    <tr>\n",
       "      <th>13</th>\n",
       "      <td>Marrow</td>\n",
       "      <td>5037</td>\n",
       "    </tr>\n",
       "    <tr>\n",
       "      <th>14</th>\n",
       "      <td>Pancreas</td>\n",
       "      <td>1564</td>\n",
       "    </tr>\n",
       "    <tr>\n",
       "      <th>15</th>\n",
       "      <td>Skin</td>\n",
       "      <td>2310</td>\n",
       "    </tr>\n",
       "    <tr>\n",
       "      <th>16</th>\n",
       "      <td>Spleen</td>\n",
       "      <td>1697</td>\n",
       "    </tr>\n",
       "    <tr>\n",
       "      <th>17</th>\n",
       "      <td>Thymus</td>\n",
       "      <td>1349</td>\n",
       "    </tr>\n",
       "    <tr>\n",
       "      <th>18</th>\n",
       "      <td>Tongue</td>\n",
       "      <td>1416</td>\n",
       "    </tr>\n",
       "    <tr>\n",
       "      <th>19</th>\n",
       "      <td>Trachea</td>\n",
       "      <td>1350</td>\n",
       "    </tr>\n",
       "  </tbody>\n",
       "</table>\n",
       "</div>"
      ],
      "text/plain": [
       "               tissue  n_cells\n",
       "0               Aorta      408\n",
       "1             Bladder     1378\n",
       "2       Brain Myeloid     4455\n",
       "3   Brain Non-Myeloid     3401\n",
       "4           Diaphragm      870\n",
       "5                 Fat     4967\n",
       "6               Heart     4365\n",
       "7              Kidney      519\n",
       "8     Large Intestine     3938\n",
       "9         Limb Muscle     1090\n",
       "10              Liver      714\n",
       "11               Lung     1716\n",
       "12      Mammary Gland     2405\n",
       "13             Marrow     5037\n",
       "14           Pancreas     1564\n",
       "15               Skin     2310\n",
       "16             Spleen     1697\n",
       "17             Thymus     1349\n",
       "18             Tongue     1416\n",
       "19            Trachea     1350"
      ]
     },
     "execution_count": 9,
     "metadata": {},
     "output_type": "execute_result"
    }
   ],
   "source": [
    "n_cells_per_tissue = nreads_ngenes.groupby('tissue').size().reset_index()\n",
    "n_cells_per_tissue = n_cells_per_tissue.rename(columns={0: 'n_cells'})\n",
    "n_cells_per_tissue"
   ]
  },
  {
   "cell_type": "code",
   "execution_count": 12,
   "metadata": {},
   "outputs": [
    {
     "data": {
      "image/png": "[encoded data removed]",
      "text/plain": [
       "<Figure size 432x288 with 1 Axes>"
      ]
     },
     "metadata": {},
     "output_type": "display_data"
    }
   ],
   "source": [
    "fig, ax = plt.subplots()\n",
    "sns.barplot(x='n_cells', y='tissue', data=n_cells_per_tissue, palette=colors, order=tissues)\n",
    "ax.set(xlabel='Number of cells', ylabel='organ')\n",
    "fig.tight_layout()\n",
    "fig.savefig('figure1b_barplot_n_cells_per_tissue.pdf')"
   ]
  },
  {
   "cell_type": "code",
   "execution_count": null,
   "metadata": {
    "collapsed": true
   },
   "outputs": [],
   "source": []
  }
 ],
 "metadata": {
  "kernelspec": {
   "display_name": "Python 3.6 (tabula-muris-env)",
   "language": "python",
   "name": "tabula-muris-env"
  },
  "language_info": {
   "codemirror_mode": {
    "name": "ipython",
    "version": 3
   },
   "file_extension": ".py",
   "mimetype": "text/x-python",
   "name": "python",
   "nbconvert_exporter": "python",
   "pygments_lexer": "ipython3",
   "version": "3.5.5"
  }
 },
 "nbformat": 4,
 "nbformat_minor": 2
}
